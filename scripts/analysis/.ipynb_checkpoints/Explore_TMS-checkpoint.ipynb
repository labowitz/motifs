{
 "cells": [
  {
   "cell_type": "code",
   "execution_count": 5,
   "metadata": {},
   "outputs": [],
   "source": [
    "import numpy as np\n",
    "import scanpy as sc\n",
    "import scipy as sp\n",
    "import pandas as pd\n",
    "import seaborn as sb\n",
    "\n",
    "datadir = '../../data/raw_data/tabula_muris_senis/'"
   ]
  },
  {
   "cell_type": "code",
   "execution_count": 6,
   "metadata": {},
   "outputs": [],
   "source": [
    "adata_10x = sc.read_h5ad(\n",
    "    datadir + \"tabula-muris-senis-droplet-official-raw-obj.h5ad\"\n",
    ")\n",
    "adata_facs = sc.read(\n",
    "    datadir + \"tabula-muris-senis-facs-official-raw-obj.h5ad\"\n",
    ")"
   ]
  },
  {
   "cell_type": "code",
   "execution_count": 7,
   "metadata": {},
   "outputs": [
    {
     "data": {
      "text/plain": [
       "AnnData object with n_obs × n_vars = 245389 × 20138\n",
       "    obs: 'age', 'cell', 'cell_ontology_class', 'cell_ontology_id', 'free_annotation', 'method', 'mouse.id', 'n_genes', 'sex', 'subtissue', 'tissue', 'tissue_free_annotation'\n",
       "    var: 'n_cells'"
      ]
     },
     "execution_count": 7,
     "metadata": {},
     "output_type": "execute_result"
    }
   ],
   "source": [
    "ages_10x = ['24m', '18m', '21m', '1m', '30m', '3m']\n",
    "ages_facs = ['18m', '24m', '3m', '21m']\n",
    "\n"
   ]
  },
  {
   "cell_type": "code",
   "execution_count": 36,
   "metadata": {},
   "outputs": [
    {
     "data": {
      "text/plain": [
       "AnnData object with n_obs × n_vars = 245389 × 20138\n",
       "    obs: 'age', 'cell', 'cell_ontology_class', 'cell_ontology_id', 'free_annotation', 'method', 'mouse.id', 'n_genes', 'sex', 'subtissue', 'tissue', 'tissue_free_annotation'\n",
       "    var: 'n_cells'"
      ]
     },
     "execution_count": 36,
     "metadata": {},
     "output_type": "execute_result"
    }
   ],
   "source": [
    "adata_10x"
   ]
  },
  {
   "cell_type": "code",
   "execution_count": 35,
   "metadata": {},
   "outputs": [
    {
     "data": {
      "text/plain": [
       "['18m', '24m', '3m', '21m']\n",
       "Categories (4, object): ['18m', '24m', '3m', '21m']"
      ]
     },
     "execution_count": 35,
     "metadata": {},
     "output_type": "execute_result"
    }
   ],
   "source": [
    "adata_facs.obs[\"age\"].unique()"
   ]
  },
  {
   "cell_type": "code",
   "execution_count": null,
   "metadata": {},
   "outputs": [],
   "source": [
    "# (adata_10x[adata_10x.obs[\"age\"]==\"3m\"].obs[\"cell_ontology_class\"].value_counts() > 30).sum()"
   ]
  },
  {
   "cell_type": "code",
   "execution_count": 33,
   "metadata": {},
   "outputs": [
    {
     "name": "stderr",
     "output_type": "stream",
     "text": [
      "/Users/niveditakanrar/opt/anaconda3/envs/surf_env2/lib/python3.8/site-packages/anndata/_core/anndata.py:1094: FutureWarning: is_categorical is deprecated and will be removed in a future version.  Use is_categorical_dtype instead\n",
      "  if not is_categorical(df_full[k]):\n"
     ]
    },
    {
     "data": {
      "text/plain": [
       "microglial cell                     4488\n",
       "fibroblast of cardiac tissue        2184\n",
       "mesenchymal stem cell of adipose    2109\n",
       "B cell                              2044\n",
       "endothelial cell                    1869\n",
       "                                    ... \n",
       "lymphocyte                             2\n",
       "plasmacytoid dendritic cell            1\n",
       "lung neuroendocrine cell               1\n",
       "lung macrophage                        1\n",
       "regulatory T cell                      1\n",
       "Name: cell_ontology_class, Length: 117, dtype: int64"
      ]
     },
     "execution_count": 33,
     "metadata": {},
     "output_type": "execute_result"
    }
   ],
   "source": [
    "(adata_facs[adata_facs.obs[\"age\"]==\"3m\"].obs[\"cell_ontology_class\"].value_counts())"
   ]
  },
  {
   "cell_type": "code",
   "execution_count": null,
   "metadata": {},
   "outputs": [],
   "source": []
  }
 ],
 "metadata": {
  "kernelspec": {
   "display_name": "Python 3",
   "language": "python",
   "name": "python3"
  },
  "language_info": {
   "codemirror_mode": {
    "name": "ipython",
    "version": 3
   },
   "file_extension": ".py",
   "mimetype": "text/x-python",
   "name": "python",
   "nbconvert_exporter": "python",
   "pygments_lexer": "ipython3",
   "version": "3.8.5"
  }
 },
 "nbformat": 4,
 "nbformat_minor": 4
}
