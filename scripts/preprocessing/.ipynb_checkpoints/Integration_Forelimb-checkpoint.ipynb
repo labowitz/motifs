{
 "cells": [
  {
   "cell_type": "markdown",
   "metadata": {},
   "source": [
    "# Integration of Forelimb Data\n",
    "\n",
    "For our integrated dataset, we seek to obtain cell type-averaged counts from the mouse forelimb 10X scRNA-seq dataset published by [He et al](https://www.nature.com/articles/s41586-020-2536-x).\n",
    "\n",
    "For the dataset integration, we assume the authors have performed satisfactory quality control on cells. We will also take all genes from the raw data so that we can maximize on the number of genes in the integrated dataset, since we take the intersection of genes. Finally, for reasonable comparison, we will normalize all cells to have the same total counts, `1e4`."
   ]
  },
  {
   "cell_type": "code",
   "execution_count": 1,
   "metadata": {},
   "outputs": [],
   "source": [
    "import numpy as np\n",
    "import scanpy as sc\n",
    "import scipy as sp\n",
    "import pandas as pd\n",
    "import seaborn as sb\n",
    "\n",
    "import module as md\n",
    "\n",
    "datadir = '../../data/raw_data/sc_data/forelimb/'\n",
    "resdir = '../../data/processed_data/sc_data/forelimb/'"
   ]
  },
  {
   "cell_type": "markdown",
   "metadata": {},
   "source": [
    "He et al. upload their gene expression matrix as a tsv file, available at https://cells.ucsc.edu/?bp=limb&ds=mouse-limb. \n",
    "\n",
    "We can read this tsv file into Scanpy to create an AnnData object. "
   ]
  },
  {
   "cell_type": "code",
   "execution_count": 2,
   "metadata": {},
   "outputs": [
    {
     "name": "stdout",
     "output_type": "stream",
     "text": [
      "CPU times: user 6min 48s, sys: 42.8 s, total: 7min 31s\n",
      "Wall time: 7min 47s\n"
     ]
    },
    {
     "data": {
      "text/plain": [
       "AnnData object with n_obs × n_vars = 90637 × 43346"
      ]
     },
     "execution_count": 2,
     "metadata": {},
     "output_type": "execute_result"
    }
   ],
   "source": [
    "%%time\n",
    "# We create the AnnData object by uploading the gene expression matrix.\n",
    "file = datadir + 'exprMatrix.tsv' # file that stores the data, a csv for this paper\n",
    "adata = sc.read_csv(file, delimiter = \"\\t\").T\n",
    "\n",
    "adata"
   ]
  },
  {
   "cell_type": "markdown",
   "metadata": {},
   "source": [
    "The authors performs a logp1 transform on the count data, and we need to invert this by doing a expm1 transform so we can visualize it."
   ]
  },
  {
   "cell_type": "code",
   "execution_count": 3,
   "metadata": {},
   "outputs": [],
   "source": [
    "adata.X = np.expm1(adata.X)"
   ]
  },
  {
   "cell_type": "markdown",
   "metadata": {},
   "source": [
    "They also upload a tsv file with metadata of the gene expression matrix, available at https://cells.ucsc.edu/?bp=limb&ds=mouse-limb. We can add these annotations as observations onto our AnnData gene expression matrix."
   ]
  },
  {
   "cell_type": "code",
   "execution_count": 4,
   "metadata": {},
   "outputs": [
    {
     "data": {
      "text/html": [
       "<div>\n",
       "<style scoped>\n",
       "    .dataframe tbody tr th:only-of-type {\n",
       "        vertical-align: middle;\n",
       "    }\n",
       "\n",
       "    .dataframe tbody tr th {\n",
       "        vertical-align: top;\n",
       "    }\n",
       "\n",
       "    .dataframe thead th {\n",
       "        text-align: right;\n",
       "    }\n",
       "</style>\n",
       "<table border=\"1\" class=\"dataframe\">\n",
       "  <thead>\n",
       "    <tr style=\"text-align: right;\">\n",
       "      <th></th>\n",
       "      <th>index</th>\n",
       "      <th>cell_type</th>\n",
       "      <th>batch</th>\n",
       "      <th>doublet_scores</th>\n",
       "      <th>nCount_RNA</th>\n",
       "      <th>nFeatures_RNA</th>\n",
       "      <th>Percent Mitochond.</th>\n",
       "      <th>stage</th>\n",
       "      <th>UMI Count</th>\n",
       "      <th>doublet_corrected_p</th>\n",
       "      <th>doublet_corrected_p_less_than_0_1</th>\n",
       "    </tr>\n",
       "    <tr>\n",
       "      <th>index</th>\n",
       "      <th></th>\n",
       "      <th></th>\n",
       "      <th></th>\n",
       "      <th></th>\n",
       "      <th></th>\n",
       "      <th></th>\n",
       "      <th></th>\n",
       "      <th></th>\n",
       "      <th></th>\n",
       "      <th></th>\n",
       "      <th></th>\n",
       "    </tr>\n",
       "  </thead>\n",
       "  <tbody>\n",
       "    <tr>\n",
       "      <th>limb12_13_0AAACCTGAGATCGATA_1</th>\n",
       "      <td>limb12_13_0AAACCTGAGATCGATA_1</td>\n",
       "      <td>Chondrocyte</td>\n",
       "      <td>7</td>\n",
       "      <td>0.216129</td>\n",
       "      <td>11426.0</td>\n",
       "      <td>3404</td>\n",
       "      <td>0.016366</td>\n",
       "      <td>13.0</td>\n",
       "      <td>11428.0</td>\n",
       "      <td>0.000002</td>\n",
       "      <td>1</td>\n",
       "    </tr>\n",
       "    <tr>\n",
       "      <th>limb12_13_0AAACCTGAGATGAGAG_1</th>\n",
       "      <td>limb12_13_0AAACCTGAGATGAGAG_1</td>\n",
       "      <td>Mesenchymal 2</td>\n",
       "      <td>7</td>\n",
       "      <td>0.223881</td>\n",
       "      <td>6474.0</td>\n",
       "      <td>2322</td>\n",
       "      <td>0.013284</td>\n",
       "      <td>13.0</td>\n",
       "      <td>6474.0</td>\n",
       "      <td>0.815298</td>\n",
       "      <td>0</td>\n",
       "    </tr>\n",
       "    <tr>\n",
       "      <th>limb12_13_0AAACCTGAGCAGATCG_1</th>\n",
       "      <td>limb12_13_0AAACCTGAGCAGATCG_1</td>\n",
       "      <td>Epithelial 1</td>\n",
       "      <td>7</td>\n",
       "      <td>0.014121</td>\n",
       "      <td>8269.0</td>\n",
       "      <td>2162</td>\n",
       "      <td>0.011610</td>\n",
       "      <td>13.0</td>\n",
       "      <td>8273.0</td>\n",
       "      <td>0.896632</td>\n",
       "      <td>0</td>\n",
       "    </tr>\n",
       "    <tr>\n",
       "      <th>limb12_13_0AAACCTGAGCGATCCC_1</th>\n",
       "      <td>limb12_13_0AAACCTGAGCGATCCC_1</td>\n",
       "      <td>Fibroblast</td>\n",
       "      <td>7</td>\n",
       "      <td>0.065789</td>\n",
       "      <td>14966.0</td>\n",
       "      <td>3771</td>\n",
       "      <td>0.011092</td>\n",
       "      <td>13.0</td>\n",
       "      <td>14972.0</td>\n",
       "      <td>0.815298</td>\n",
       "      <td>0</td>\n",
       "    </tr>\n",
       "    <tr>\n",
       "      <th>limb12_13_0AAACCTGAGTGTACCT_1</th>\n",
       "      <td>limb12_13_0AAACCTGAGTGTACCT_1</td>\n",
       "      <td>Perichondrial</td>\n",
       "      <td>7</td>\n",
       "      <td>0.125270</td>\n",
       "      <td>7649.0</td>\n",
       "      <td>2517</td>\n",
       "      <td>0.018042</td>\n",
       "      <td>13.0</td>\n",
       "      <td>7651.0</td>\n",
       "      <td>0.815298</td>\n",
       "      <td>0</td>\n",
       "    </tr>\n",
       "  </tbody>\n",
       "</table>\n",
       "</div>"
      ],
      "text/plain": [
       "                                                       index       cell_type  \\\n",
       "index                                                                          \n",
       "limb12_13_0AAACCTGAGATCGATA_1  limb12_13_0AAACCTGAGATCGATA_1    Chondrocyte    \n",
       "limb12_13_0AAACCTGAGATGAGAG_1  limb12_13_0AAACCTGAGATGAGAG_1  Mesenchymal 2    \n",
       "limb12_13_0AAACCTGAGCAGATCG_1  limb12_13_0AAACCTGAGCAGATCG_1   Epithelial 1    \n",
       "limb12_13_0AAACCTGAGCGATCCC_1  limb12_13_0AAACCTGAGCGATCCC_1     Fibroblast    \n",
       "limb12_13_0AAACCTGAGTGTACCT_1  limb12_13_0AAACCTGAGTGTACCT_1   Perichondrial   \n",
       "\n",
       "                               batch  doublet_scores  nCount_RNA  \\\n",
       "index                                                              \n",
       "limb12_13_0AAACCTGAGATCGATA_1      7        0.216129     11426.0   \n",
       "limb12_13_0AAACCTGAGATGAGAG_1      7        0.223881      6474.0   \n",
       "limb12_13_0AAACCTGAGCAGATCG_1      7        0.014121      8269.0   \n",
       "limb12_13_0AAACCTGAGCGATCCC_1      7        0.065789     14966.0   \n",
       "limb12_13_0AAACCTGAGTGTACCT_1      7        0.125270      7649.0   \n",
       "\n",
       "                               nFeatures_RNA  Percent Mitochond.  stage  \\\n",
       "index                                                                     \n",
       "limb12_13_0AAACCTGAGATCGATA_1           3404            0.016366   13.0   \n",
       "limb12_13_0AAACCTGAGATGAGAG_1           2322            0.013284   13.0   \n",
       "limb12_13_0AAACCTGAGCAGATCG_1           2162            0.011610   13.0   \n",
       "limb12_13_0AAACCTGAGCGATCCC_1           3771            0.011092   13.0   \n",
       "limb12_13_0AAACCTGAGTGTACCT_1           2517            0.018042   13.0   \n",
       "\n",
       "                               UMI Count  doublet_corrected_p  \\\n",
       "index                                                           \n",
       "limb12_13_0AAACCTGAGATCGATA_1    11428.0             0.000002   \n",
       "limb12_13_0AAACCTGAGATGAGAG_1     6474.0             0.815298   \n",
       "limb12_13_0AAACCTGAGCAGATCG_1     8273.0             0.896632   \n",
       "limb12_13_0AAACCTGAGCGATCCC_1    14972.0             0.815298   \n",
       "limb12_13_0AAACCTGAGTGTACCT_1     7651.0             0.815298   \n",
       "\n",
       "                               doublet_corrected_p_less_than_0_1  \n",
       "index                                                             \n",
       "limb12_13_0AAACCTGAGATCGATA_1                                  1  \n",
       "limb12_13_0AAACCTGAGATGAGAG_1                                  0  \n",
       "limb12_13_0AAACCTGAGCAGATCG_1                                  0  \n",
       "limb12_13_0AAACCTGAGCGATCCC_1                                  0  \n",
       "limb12_13_0AAACCTGAGTGTACCT_1                                  0  "
      ]
     },
     "execution_count": 4,
     "metadata": {},
     "output_type": "execute_result"
    }
   ],
   "source": [
    "# The dataset also has a metadata file with annotations of each cell's\n",
    "# batch number, developmental stage, and cell type. We add these \n",
    "# annotations to the AnnData object.\n",
    "\n",
    "metadata = datadir+'meta.tsv'\n",
    "df_meta = pd.read_csv(metadata, delimiter = \"\\t\")\n",
    "df_meta = df_meta.set_index(df_meta['index'])\n",
    "\n",
    "adata.obs['batch'] = df_meta['batch']\n",
    "adata.obs['batch'] = [str(i) for i in adata.obs['batch']]\n",
    "adata.obs['stage'] = df_meta['stage']\n",
    "adata.obs['cell_type'] = df_meta['cell_type']\n",
    "\n",
    "df_meta.head()"
   ]
  },
  {
   "cell_type": "markdown",
   "metadata": {},
   "source": [
    "We seek to subset the cells into groups for the merged dataset. The object contains samples from `e10.5, e11, e12, e13, e13.5, e14, e15` mice. We will subset the cell types according to these timepoints.\n",
    "\n",
    "Moreover, to not give weight to very small cell type populations, we filter for cell types containing more than 30 cells.The authors performs a logp1 transform on the count data, and we need to invert this by doing a expm1 transform."
   ]
  },
  {
   "cell_type": "code",
   "execution_count": 5,
   "metadata": {},
   "outputs": [
    {
     "data": {
      "text/plain": [
       "stage\n",
       "15.0    20\n",
       "14.0    17\n",
       "13.0    16\n",
       "13.5    14\n",
       "12.0    11\n",
       "11.0     7\n",
       "10.5     6\n",
       "dtype: int64"
      ]
     },
     "execution_count": 5,
     "metadata": {},
     "output_type": "execute_result"
    }
   ],
   "source": [
    "# Groupby the three subsetting categories\n",
    "df_filt = pd.DataFrame(adata.obs.groupby([\"stage\", \"cell_type\"]).size())\n",
    "df_filt = df_filt.rename(columns = {0: \"ncells\"})\n",
    "df_filt = df_filt[df_filt[\"ncells\"] > 0].reset_index()\n",
    "\n",
    "# Drop the cell types with fewer than 30 counts.\n",
    "df_filt = df_filt[df_filt[\"ncells\"] >= 30]\n",
    "df_filt = df_filt.drop(columns=\"ncells\")\n",
    "\n",
    "# Display counts of cell types in each timepoint.\n",
    "df_filt.value_counts(\"stage\")"
   ]
  },
  {
   "cell_type": "code",
   "execution_count": 6,
   "metadata": {},
   "outputs": [
    {
     "name": "stderr",
     "output_type": "stream",
     "text": [
      "/Users/niveditakanrar/opt/anaconda3/envs/surf_env2/lib/python3.8/site-packages/anndata/_core/anndata.py:1094: FutureWarning: is_categorical is deprecated and will be removed in a future version.  Use is_categorical_dtype instead\n",
      "  if not is_categorical(df_full[k]):\n"
     ]
    },
    {
     "data": {
      "text/plain": [
       "View of AnnData object with n_obs × n_vars = 90137 × 43346\n",
       "    obs: 'batch', 'stage', 'cell_type'"
      ]
     },
     "execution_count": 6,
     "metadata": {},
     "output_type": "execute_result"
    }
   ],
   "source": [
    "# Subset the AnnData object to only include cells that are in the subsetted cell types.\n",
    "keys = list(df_filt.columns.values)\n",
    "i1 = adata.obs.set_index(keys).index\n",
    "i2 = df_filt.set_index(keys).index\n",
    "\n",
    "adata = adata[adata.obs[i1.isin(i2)].index,:]\n",
    "\n",
    "adata"
   ]
  },
  {
   "cell_type": "markdown",
   "metadata": {},
   "source": [
    "### Data Before Processing <a class=\"anchor\" id=\"2-bullet\"></a>"
   ]
  },
  {
   "cell_type": "markdown",
   "metadata": {},
   "source": [
    "Though we do not perform quality control on cells or genes, we will visualize basic statistics on these parameters to get a rough idea of the data quality."
   ]
  },
  {
   "cell_type": "code",
   "execution_count": null,
   "metadata": {},
   "outputs": [],
   "source": [
    "%%time\n",
    "\n",
    "# Below, we display cells with genes/cell and counts/cell, for genes that \n",
    "# have at least one 1 count in any cell. \n",
    "sc.pp.filter_cells(adata, min_genes=0)\n",
    "sc.pp.filter_genes(adata, min_cells=0)\n",
    "\n",
    "# Set annotations to the AnnData object for total counts, cells per gene, and mitochondrial genes\n",
    "#X = np.matrix(adata.X)\n",
    "adata.obs['n_total_counts_per_cell'] = adata.X.sum(axis=1)\n",
    "adata.var['n_cells_per_gene'] = adata.X.astype(bool).astype(int).sum(axis=0).T\n",
    "adata.obs['n_genes_per_cell'] = adata.X.astype(bool).astype(int).sum(axis=1)\n",
    "\n",
    "# Make plots to visualize data quality.\n",
    "\n",
    "pre_processed = md.vis_pre_processing(adata, genes_range=(0, 20000),\n",
    "    counts_range=(0, 1e5),title='Figure 2: Data Before Pre-Processing',\n",
    "                                     genes_threshold = 1000, \n",
    "                                      counts_threshold=2000)"
   ]
  },
  {
   "cell_type": "code",
   "execution_count": null,
   "metadata": {},
   "outputs": [],
   "source": [
    "avg_genes = int(np.average(adata.obs['n_genes_per_cell']))\n",
    "avg_counts = int(np.average(adata.obs['n_total_counts_per_cell']))\n",
    "\n",
    "print('The average number of genes per cell is ' + str(avg_genes) \n",
    "      + ' and the average number of counts per cell is ' \n",
    "      + str(avg_counts))"
   ]
  },
  {
   "cell_type": "markdown",
   "metadata": {},
   "source": [
    "### Data Normalization <a class=\"anchor\" id=\"3-bullet\"></a>"
   ]
  },
  {
   "cell_type": "markdown",
   "metadata": {},
   "source": [
    "The data is already normalized so each cell has `1e4` counts."
   ]
  },
  {
   "cell_type": "code",
   "execution_count": null,
   "metadata": {},
   "outputs": [],
   "source": [
    "adata.X.sum(axis=1)"
   ]
  },
  {
   "cell_type": "code",
   "execution_count": null,
   "metadata": {},
   "outputs": [],
   "source": [
    "%%time\n",
    "\n",
    "# Normalize the data\n",
    "sc.pp.log1p(adata)\n",
    "\n",
    "# We set the raw attribute of our AnnData object as the normalized count matrix. \n",
    "adata.raw=adata"
   ]
  },
  {
   "cell_type": "markdown",
   "metadata": {},
   "source": [
    "For the integrated atlas, we will now average gene counts over cell types, add metadata, and save the result as csvs, separate for each timepoint."
   ]
  },
  {
   "cell_type": "code",
   "execution_count": null,
   "metadata": {},
   "outputs": [],
   "source": [
    "# Save data separately for each time point.\n",
    "\n",
    "df = pd.DataFrame(columns = adata.var.index)\n",
    "\n",
    "for j in df_filt.index:\n",
    "    df.loc[j] = adata_sub[(adata.obs[\"stage\"] == df_filt.loc[j, \"stage\"]) & \n",
    "                          (adata.obs[\"tissue\"] == df_filt.loc[j, \"tissue\"]) & \n",
    "                          (adata.obs[\"cell_ontology_class\"] == df_filt.loc[j, \n",
    "                                                                           \"cell_ontology_class\"])][:, :].X.mean(0)\n",
    "        \n",
    "df[\"cell_ontology_class\"] = df_filt[\"cell_ontology_class\"]\n",
    "df[\"tissue\"] = \"NaN\"\n",
    "df[\"dataset\"] = \"Forelimb_E10.5_15.0\"\n",
    "\n",
    "df.to_csv(resdir + \"forelimb_all_genes.csv\")"
   ]
  },
  {
   "cell_type": "code",
   "execution_count": null,
   "metadata": {},
   "outputs": [],
   "source": [
    "%load_ext watermark\n",
    "%watermark -v -p numpy,pandas,scanpy,jupyterlab"
   ]
  }
 ],
 "metadata": {
  "kernelspec": {
   "display_name": "Python 3",
   "language": "python",
   "name": "python3"
  },
  "language_info": {
   "codemirror_mode": {
    "name": "ipython",
    "version": 3
   },
   "file_extension": ".py",
   "mimetype": "text/x-python",
   "name": "python",
   "nbconvert_exporter": "python",
   "pygments_lexer": "ipython3",
   "version": "3.8.5"
  }
 },
 "nbformat": 4,
 "nbformat_minor": 4
}
