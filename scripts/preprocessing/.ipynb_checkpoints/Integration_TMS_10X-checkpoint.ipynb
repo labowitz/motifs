{
 "cells": [
  {
   "cell_type": "markdown",
   "metadata": {},
   "source": [
    "# Integration of Tabula Muris Senis 10X Data\n",
    "\n",
    "For our integrated dataset, we seek to obtain cell type-averaged counts from droplet sorted Tabula Muris Senis dataset of `1m, 3m, 18m, 21m, 30m` mice ([The Tabula Muris Consortium, 2020](https://doi.org/10.1038/s41586-020-2496-1)).\n",
    "\n",
    "For the dataset integration, we assume the authors have performed satisfactory quality control on cells. We will also take all genes from the raw data so that we can maximize on the number of genes in the integrated dataset, since we take the intersection of genes. Finally, for reasonable comparison, we will normalize all cells to have the same total counts, `1e4`."
   ]
  },
  {
   "cell_type": "code",
   "execution_count": 1,
   "metadata": {},
   "outputs": [],
   "source": [
    "import numpy as np\n",
    "import scanpy as sc\n",
    "import scipy as sp\n",
    "import pandas as pd\n",
    "import seaborn as sb\n",
    "\n",
    "import module as md\n",
    "\n",
    "datadir = '../../data/raw_data/sc_data/tms_10X/'\n",
    "resdir = '../../data/processed_data/sc_data/tms_10X/'"
   ]
  },
  {
   "cell_type": "markdown",
   "metadata": {},
   "source": [
    "We use the processed h5ad file (which contain the raw counts as well) from [here](https://figshare.com/articles/dataset/Processed_files_to_use_with_scanpy_/8273102?file=23937842)."
   ]
  },
  {
   "cell_type": "code",
   "execution_count": 2,
   "metadata": {},
   "outputs": [
    {
     "name": "stderr",
     "output_type": "stream",
     "text": [
      "/Users/niveditakanrar/opt/anaconda3/envs/surf_env2/lib/python3.8/site-packages/anndata/compat/__init__.py:158: FutureWarning: Moving element from .uns['neighbors']['distances'] to .obsp['distances'].\n",
      "\n",
      "This is where adjacency matrices should go now.\n",
      "  warn(\n",
      "/Users/niveditakanrar/opt/anaconda3/envs/surf_env2/lib/python3.8/site-packages/anndata/compat/__init__.py:158: FutureWarning: Moving element from .uns['neighbors']['connectivities'] to .obsp['connectivities'].\n",
      "\n",
      "This is where adjacency matrices should go now.\n",
      "  warn(\n"
     ]
    },
    {
     "data": {
      "text/plain": [
       "AnnData object with n_obs × n_vars = 245389 × 20138\n",
       "    obs: 'age', 'cell', 'cell_ontology_class', 'cell_ontology_id', 'free_annotation', 'method', 'mouse.id', 'n_genes', 'sex', 'subtissue', 'tissue', 'tissue_free_annotation', 'n_counts', 'louvain', 'leiden'\n",
       "    var: 'n_cells', 'means', 'dispersions', 'dispersions_norm', 'highly_variable'\n",
       "    uns: 'age_colors', 'leiden', 'louvain', 'louvain_colors', 'neighbors', 'pca', 'tissue_colors'\n",
       "    obsm: 'X_pca', 'X_umap'\n",
       "    varm: 'PCs'\n",
       "    obsp: 'distances', 'connectivities'"
      ]
     },
     "execution_count": 2,
     "metadata": {},
     "output_type": "execute_result"
    }
   ],
   "source": [
    "file_name = \"tabula-muris-senis-droplet-processed-official-annotations.h5ad\"\n",
    "adata = sc.read_h5ad(datadir + file_name)\n",
    "\n",
    "adata"
   ]
  },
  {
   "cell_type": "markdown",
   "metadata": {},
   "source": [
    "We seek to subset the cells into groups for the merged dataset. The object contains samples from `1m, 3m, 18m, 21m, 30m` mice. Moreover, the `cell_ontology_class` label does not distinguish between cells of the same class being in different organs, so we also subset cells on the `tissue` class.\n",
    "\n",
    "Moreover, to not give weight to very small cell type populations, we filter for cell types containing more than 30 cells."
   ]
  },
  {
   "cell_type": "code",
   "execution_count": 3,
   "metadata": {},
   "outputs": [
    {
     "data": {
      "text/plain": [
       "age\n",
       "18m    107\n",
       "30m    100\n",
       "21m     95\n",
       "3m      95\n",
       "1m      69\n",
       "24m     56\n",
       "dtype: int64"
      ]
     },
     "execution_count": 3,
     "metadata": {},
     "output_type": "execute_result"
    }
   ],
   "source": [
    "# Groupby the three subsetting categories\n",
    "df_filt = pd.DataFrame(adata.obs.groupby([\"age\", \"tissue\", \"cell_ontology_class\"]).size())\n",
    "df_filt = df_filt.rename(columns = {0: \"ncells\"})\n",
    "df_filt = df_filt[df_filt[\"ncells\"] > 0].reset_index()\n",
    "\n",
    "# Drop the cell types with fewer than 30 counts.\n",
    "df_filt = df_filt[df_filt[\"ncells\"] >= 30]\n",
    "df_filt = df_filt.drop(columns=\"ncells\")\n",
    "\n",
    "# Display counts of cell types in each timepoint.\n",
    "df_filt.value_counts(\"age\")"
   ]
  },
  {
   "cell_type": "code",
   "execution_count": 4,
   "metadata": {},
   "outputs": [
    {
     "name": "stderr",
     "output_type": "stream",
     "text": [
      "/Users/niveditakanrar/opt/anaconda3/envs/surf_env2/lib/python3.8/site-packages/anndata/_core/anndata.py:1094: FutureWarning: is_categorical is deprecated and will be removed in a future version.  Use is_categorical_dtype instead\n",
      "  if not is_categorical(df_full[k]):\n"
     ]
    },
    {
     "data": {
      "text/plain": [
       "View of AnnData object with n_obs × n_vars = 242642 × 20138\n",
       "    obs: 'age', 'cell', 'cell_ontology_class', 'cell_ontology_id', 'free_annotation', 'method', 'mouse.id', 'n_genes', 'sex', 'subtissue', 'tissue', 'tissue_free_annotation', 'n_counts', 'louvain', 'leiden'\n",
       "    var: 'n_cells', 'means', 'dispersions', 'dispersions_norm', 'highly_variable'\n",
       "    uns: 'age_colors', 'leiden', 'louvain', 'louvain_colors', 'neighbors', 'pca', 'tissue_colors'\n",
       "    obsm: 'X_pca', 'X_umap'\n",
       "    varm: 'PCs'\n",
       "    obsp: 'distances', 'connectivities'"
      ]
     },
     "execution_count": 4,
     "metadata": {},
     "output_type": "execute_result"
    }
   ],
   "source": [
    "# Subset the AnnData object to only include cells that are in the subsetted cell types.\n",
    "keys = list(df_filt.columns.values)\n",
    "i1 = adata.obs.set_index(keys).index\n",
    "i2 = df_filt.set_index(keys).index\n",
    "\n",
    "adata = adata[adata.obs[i1.isin(i2)].index,:]\n",
    "\n",
    "adata"
   ]
  },
  {
   "cell_type": "markdown",
   "metadata": {},
   "source": [
    "### Data Before Processing <a class=\"anchor\" id=\"2-bullet\"></a>"
   ]
  },
  {
   "cell_type": "markdown",
   "metadata": {},
   "source": [
    "Though we do not perform quality control on cells or genes, we will visualize basic statistics on these parameters to get a rough idea of the data quality."
   ]
  },
  {
   "cell_type": "code",
   "execution_count": null,
   "metadata": {},
   "outputs": [],
   "source": [
    "%%time\n",
    "\n",
    "# Below, we display cells with genes/cell and counts/cell, for genes that \n",
    "# have at least one 1 count in any cell. \n",
    "sc.pp.filter_cells(adata, min_genes=0)\n",
    "sc.pp.filter_genes(adata, min_cells=0)\n",
    "\n",
    "# Set annotations to the AnnData object for total counts, cells per gene, and mitochondrial genes\n",
    "#X = np.matrix(adata.X)\n",
    "adata.obs['n_total_counts_per_cell'] = adata.X.sum(axis=1)\n",
    "adata.var['n_cells_per_gene'] = adata.X.astype(bool).astype(int).sum(axis=0).T\n",
    "adata.obs['n_genes_per_cell'] = adata.X.astype(bool).astype(int).sum(axis=1)\n",
    "\n",
    "# Make plots to visualize data quality.\n",
    "\n",
    "pre_processed = md.vis_pre_processing(adata, genes_range=(0, 20000),\n",
    "    counts_range=(0, 1e5),title='Figure 2: Data Before Pre-Processing',\n",
    "                                     genes_threshold = 1000, counts_threshold=2000)"
   ]
  },
  {
   "cell_type": "code",
   "execution_count": null,
   "metadata": {},
   "outputs": [],
   "source": [
    "avg_genes = int(np.average(adata.obs['n_genes_per_cell']))\n",
    "avg_counts = int(np.average(adata.obs['n_total_counts_per_cell']))\n",
    "\n",
    "print('The average number of genes per cell is ' + str(avg_genes) \n",
    "      + ' and the average number of counts per cell is ' \n",
    "      + str(avg_counts))"
   ]
  },
  {
   "cell_type": "markdown",
   "metadata": {},
   "source": [
    "### Data Normalization <a class=\"anchor\" id=\"3-bullet\"></a>"
   ]
  },
  {
   "cell_type": "markdown",
   "metadata": {},
   "source": [
    "We normalize the data such that all cells have `1e4` cells."
   ]
  },
  {
   "cell_type": "code",
   "execution_count": null,
   "metadata": {},
   "outputs": [],
   "source": [
    "%%time\n",
    "\n",
    "# Normalize the data\n",
    "sc.pp.normalize_total(adata, target_sum=1e4)\n",
    "sc.pp.log1p(adata)\n",
    "\n",
    "# We set the raw attribute of our AnnData object as the normalized count matrix. \n",
    "adata.raw=adata"
   ]
  },
  {
   "cell_type": "markdown",
   "metadata": {},
   "source": [
    "For the integrated atlas, we will now average gene counts over cell types, add metadata, and save the result as csvs, separate for each timepoint."
   ]
  },
  {
   "cell_type": "code",
   "execution_count": null,
   "metadata": {},
   "outputs": [],
   "source": [
    "# Save data separately for each time point.\n",
    "time_pts = adata.obs[\"age\"].unique()\n",
    "\n",
    "for age in time_pts:\n",
    "    \n",
    "    adata_sub = adata[adata.obs[\"age\"] == age].copy()\n",
    "    df = pd.DataFrame(index = df_filt[df_filt[\"age\"] == age].index, columns = adata.var.index)\n",
    "    \n",
    "    for j in df_filt[df_filt[\"age\"] == age].index:\n",
    "        df.loc[j] = adata_sub[(adata_sub.obs[\"tissue\"] == df_filt.loc[j, \"tissue\"]) & \n",
    "                              (adata_sub.obs[\"cell_ontology_class\"] == df_filt.loc[j, \"cell_ontology_class\"])][:, :].X.mean(0)\n",
    "    \n",
    "    df[\"cell_ontology_class\"] = df_filt[df_filt[\"age\"] == age][\"cell_ontology_class\"]\n",
    "    df[\"tissue\"] = df_filt[df_filt[\"age\"] == age][\"tissue\"]\n",
    "    df[\"dataset\"] = age\n",
    "    \n",
    "    df.to_csv(resdir + \"tms_10X_\" + age + \"_all_genes.csv\")"
   ]
  },
  {
   "cell_type": "code",
   "execution_count": null,
   "metadata": {},
   "outputs": [],
   "source": [
    "%load_ext watermark\n",
    "%watermark -v -p numpy,pandas,scanpy,jupyterlab"
   ]
  }
 ],
 "metadata": {
  "kernelspec": {
   "display_name": "Python 3",
   "language": "python",
   "name": "python3"
  },
  "language_info": {
   "codemirror_mode": {
    "name": "ipython",
    "version": 3
   },
   "file_extension": ".py",
   "mimetype": "text/x-python",
   "name": "python",
   "nbconvert_exporter": "python",
   "pygments_lexer": "ipython3",
   "version": "3.8.5"
  }
 },
 "nbformat": 4,
 "nbformat_minor": 4
}
