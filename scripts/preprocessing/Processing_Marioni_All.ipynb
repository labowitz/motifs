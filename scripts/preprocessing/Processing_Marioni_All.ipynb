{
 "cells": [
  {
   "cell_type": "markdown",
   "metadata": {},
   "source": [
    "# Early Organogenesis Dataset"
   ]
  },
  {
   "cell_type": "markdown",
   "metadata": {},
   "source": [
    "Here, we separate the early organogenesis cell atlas in [\"A single-cell molecule map of mouse gastrulation and early organogenesis\"](https://www.nature.com/articles/s41586-019-0933-9#Abs1) by cell stage (E6.5-E8.5), so we can analyze pathway states for each time point separately."
   ]
  },
  {
   "cell_type": "code",
   "execution_count": 1,
   "metadata": {},
   "outputs": [],
   "source": [
    "import numpy as np\n",
    "import scanpy as sc\n",
    "import scipy as sp\n",
    "import pandas as pd\n",
    "import seaborn as sb\n",
    "\n",
    "import module as md\n",
    "\n",
    "# Set directories for the data, results, and figures. SPECIFY AS APPROPRIATE\n",
    "datadir = '../../data/raw_data/sc_data/early_organogenesis/'\n",
    "resdir = '../../data/processed_data/sc_data/early_organogenesis/'"
   ]
  },
  {
   "cell_type": "markdown",
   "metadata": {},
   "source": [
    "## Data Pre-Processing <a class=\"anchor\" id=\"1-bullet\"></a>"
   ]
  },
  {
   "cell_type": "code",
   "execution_count": 2,
   "metadata": {},
   "outputs": [
    {
     "data": {
      "text/plain": [
       "AnnData object with n_obs × n_vars = 139331 × 29452"
      ]
     },
     "execution_count": 2,
     "metadata": {},
     "output_type": "execute_result"
    }
   ],
   "source": [
    "adata = sc.read(datadir+\"matrix.mtx\",cache=True).T\n",
    "\n",
    "adata.obs.index = pd.read_csv(datadir+\"barcodes.tsv\", delimiter=\"\\t\")[\"barcode\"]\n",
    "adata.var.index = pd.read_csv(datadir+\"genes.tsv\", delimiter=\"\\t\")[\"gene\"]\n",
    "\n",
    "adata"
   ]
  },
  {
   "cell_type": "code",
   "execution_count": 3,
   "metadata": {},
   "outputs": [
    {
     "name": "stderr",
     "output_type": "stream",
     "text": [
      "/Users/niveditakanrar/opt/anaconda3/envs/surf_env2/lib/python3.8/site-packages/IPython/core/interactiveshell.py:3145: DtypeWarning: Columns (27) have mixed types.Specify dtype option on import or set low_memory=False.\n",
      "  has_raised = await self.run_ast_nodes(code_ast.body, cell_name,\n",
      "/Users/niveditakanrar/opt/anaconda3/envs/surf_env2/lib/python3.8/site-packages/anndata/_core/anndata.py:1094: FutureWarning: is_categorical is deprecated and will be removed in a future version.  Use is_categorical_dtype instead\n",
      "  if not is_categorical(df_full[k]):\n"
     ]
    },
    {
     "data": {
      "text/html": [
       "<div>\n",
       "<style scoped>\n",
       "    .dataframe tbody tr th:only-of-type {\n",
       "        vertical-align: middle;\n",
       "    }\n",
       "\n",
       "    .dataframe tbody tr th {\n",
       "        vertical-align: top;\n",
       "    }\n",
       "\n",
       "    .dataframe thead th {\n",
       "        text-align: right;\n",
       "    }\n",
       "</style>\n",
       "<table border=\"1\" class=\"dataframe\">\n",
       "  <thead>\n",
       "    <tr style=\"text-align: right;\">\n",
       "      <th></th>\n",
       "      <th>cell</th>\n",
       "      <th>sample</th>\n",
       "      <th>stage</th>\n",
       "      <th>sequencing.batch</th>\n",
       "      <th>theiler</th>\n",
       "      <th>doub.density</th>\n",
       "      <th>doublet</th>\n",
       "      <th>cluster</th>\n",
       "      <th>cluster.sub</th>\n",
       "      <th>cluster.stage</th>\n",
       "      <th>...</th>\n",
       "      <th>haem_gephiY</th>\n",
       "      <th>haem_subclust</th>\n",
       "      <th>endo_gephiX</th>\n",
       "      <th>endo_gephiY</th>\n",
       "      <th>endo_trajectoryName</th>\n",
       "      <th>endo_trajectoryDPT</th>\n",
       "      <th>endo_gutX</th>\n",
       "      <th>endo_gutY</th>\n",
       "      <th>endo_gutDPT</th>\n",
       "      <th>endo_gutCluster</th>\n",
       "    </tr>\n",
       "    <tr>\n",
       "      <th>barcode</th>\n",
       "      <th></th>\n",
       "      <th></th>\n",
       "      <th></th>\n",
       "      <th></th>\n",
       "      <th></th>\n",
       "      <th></th>\n",
       "      <th></th>\n",
       "      <th></th>\n",
       "      <th></th>\n",
       "      <th></th>\n",
       "      <th></th>\n",
       "      <th></th>\n",
       "      <th></th>\n",
       "      <th></th>\n",
       "      <th></th>\n",
       "      <th></th>\n",
       "      <th></th>\n",
       "      <th></th>\n",
       "      <th></th>\n",
       "      <th></th>\n",
       "      <th></th>\n",
       "    </tr>\n",
       "  </thead>\n",
       "  <tbody>\n",
       "    <tr>\n",
       "      <th>AAAGGCCTCCACAA</th>\n",
       "      <td>cell_1</td>\n",
       "      <td>1</td>\n",
       "      <td>E6.5</td>\n",
       "      <td>1</td>\n",
       "      <td>TS9</td>\n",
       "      <td>0.043114</td>\n",
       "      <td>False</td>\n",
       "      <td>2.0</td>\n",
       "      <td>4.0</td>\n",
       "      <td>2.0</td>\n",
       "      <td>...</td>\n",
       "      <td>NaN</td>\n",
       "      <td>NaN</td>\n",
       "      <td>NaN</td>\n",
       "      <td>NaN</td>\n",
       "      <td>NaN</td>\n",
       "      <td>NaN</td>\n",
       "      <td>NaN</td>\n",
       "      <td>NaN</td>\n",
       "      <td>NaN</td>\n",
       "      <td>NaN</td>\n",
       "    </tr>\n",
       "    <tr>\n",
       "      <th>AACAAACTCGCCTT</th>\n",
       "      <td>cell_2</td>\n",
       "      <td>1</td>\n",
       "      <td>E6.5</td>\n",
       "      <td>1</td>\n",
       "      <td>TS9</td>\n",
       "      <td>1.129713</td>\n",
       "      <td>False</td>\n",
       "      <td>12.0</td>\n",
       "      <td>1.0</td>\n",
       "      <td>1.0</td>\n",
       "      <td>...</td>\n",
       "      <td>NaN</td>\n",
       "      <td>NaN</td>\n",
       "      <td>NaN</td>\n",
       "      <td>NaN</td>\n",
       "      <td>NaN</td>\n",
       "      <td>NaN</td>\n",
       "      <td>NaN</td>\n",
       "      <td>NaN</td>\n",
       "      <td>NaN</td>\n",
       "      <td>NaN</td>\n",
       "    </tr>\n",
       "    <tr>\n",
       "      <th>AACAATACCCGTAA</th>\n",
       "      <td>cell_3</td>\n",
       "      <td>1</td>\n",
       "      <td>E6.5</td>\n",
       "      <td>1</td>\n",
       "      <td>TS9</td>\n",
       "      <td>0.000000</td>\n",
       "      <td>False</td>\n",
       "      <td>NaN</td>\n",
       "      <td>NaN</td>\n",
       "      <td>NaN</td>\n",
       "      <td>...</td>\n",
       "      <td>NaN</td>\n",
       "      <td>NaN</td>\n",
       "      <td>NaN</td>\n",
       "      <td>NaN</td>\n",
       "      <td>NaN</td>\n",
       "      <td>NaN</td>\n",
       "      <td>NaN</td>\n",
       "      <td>NaN</td>\n",
       "      <td>NaN</td>\n",
       "      <td>NaN</td>\n",
       "    </tr>\n",
       "    <tr>\n",
       "      <th>AACACTCTCATTCT</th>\n",
       "      <td>cell_4</td>\n",
       "      <td>1</td>\n",
       "      <td>E6.5</td>\n",
       "      <td>1</td>\n",
       "      <td>TS9</td>\n",
       "      <td>0.084689</td>\n",
       "      <td>False</td>\n",
       "      <td>NaN</td>\n",
       "      <td>NaN</td>\n",
       "      <td>NaN</td>\n",
       "      <td>...</td>\n",
       "      <td>NaN</td>\n",
       "      <td>NaN</td>\n",
       "      <td>NaN</td>\n",
       "      <td>NaN</td>\n",
       "      <td>NaN</td>\n",
       "      <td>NaN</td>\n",
       "      <td>NaN</td>\n",
       "      <td>NaN</td>\n",
       "      <td>NaN</td>\n",
       "      <td>NaN</td>\n",
       "    </tr>\n",
       "    <tr>\n",
       "      <th>AACAGAGAATCAGC</th>\n",
       "      <td>cell_5</td>\n",
       "      <td>1</td>\n",
       "      <td>E6.5</td>\n",
       "      <td>1</td>\n",
       "      <td>TS9</td>\n",
       "      <td>0.112121</td>\n",
       "      <td>False</td>\n",
       "      <td>3.0</td>\n",
       "      <td>7.0</td>\n",
       "      <td>4.0</td>\n",
       "      <td>...</td>\n",
       "      <td>NaN</td>\n",
       "      <td>NaN</td>\n",
       "      <td>NaN</td>\n",
       "      <td>NaN</td>\n",
       "      <td>NaN</td>\n",
       "      <td>NaN</td>\n",
       "      <td>NaN</td>\n",
       "      <td>NaN</td>\n",
       "      <td>NaN</td>\n",
       "      <td>NaN</td>\n",
       "    </tr>\n",
       "  </tbody>\n",
       "</table>\n",
       "<p>5 rows × 27 columns</p>\n",
       "</div>"
      ],
      "text/plain": [
       "                  cell  sample stage  sequencing.batch theiler  doub.density  \\\n",
       "barcode                                                                        \n",
       "AAAGGCCTCCACAA  cell_1       1  E6.5                 1     TS9      0.043114   \n",
       "AACAAACTCGCCTT  cell_2       1  E6.5                 1     TS9      1.129713   \n",
       "AACAATACCCGTAA  cell_3       1  E6.5                 1     TS9      0.000000   \n",
       "AACACTCTCATTCT  cell_4       1  E6.5                 1     TS9      0.084689   \n",
       "AACAGAGAATCAGC  cell_5       1  E6.5                 1     TS9      0.112121   \n",
       "\n",
       "                doublet  cluster  cluster.sub  cluster.stage  ...  \\\n",
       "barcode                                                       ...   \n",
       "AAAGGCCTCCACAA    False      2.0          4.0            2.0  ...   \n",
       "AACAAACTCGCCTT    False     12.0          1.0            1.0  ...   \n",
       "AACAATACCCGTAA    False      NaN          NaN            NaN  ...   \n",
       "AACACTCTCATTCT    False      NaN          NaN            NaN  ...   \n",
       "AACAGAGAATCAGC    False      3.0          7.0            4.0  ...   \n",
       "\n",
       "                haem_gephiY  haem_subclust endo_gephiX endo_gephiY  \\\n",
       "barcode                                                              \n",
       "AAAGGCCTCCACAA          NaN            NaN         NaN         NaN   \n",
       "AACAAACTCGCCTT          NaN            NaN         NaN         NaN   \n",
       "AACAATACCCGTAA          NaN            NaN         NaN         NaN   \n",
       "AACACTCTCATTCT          NaN            NaN         NaN         NaN   \n",
       "AACAGAGAATCAGC          NaN            NaN         NaN         NaN   \n",
       "\n",
       "                endo_trajectoryName  endo_trajectoryDPT  endo_gutX  endo_gutY  \\\n",
       "barcode                                                                         \n",
       "AAAGGCCTCCACAA                  NaN                 NaN        NaN        NaN   \n",
       "AACAAACTCGCCTT                  NaN                 NaN        NaN        NaN   \n",
       "AACAATACCCGTAA                  NaN                 NaN        NaN        NaN   \n",
       "AACACTCTCATTCT                  NaN                 NaN        NaN        NaN   \n",
       "AACAGAGAATCAGC                  NaN                 NaN        NaN        NaN   \n",
       "\n",
       "               endo_gutDPT  endo_gutCluster  \n",
       "barcode                                      \n",
       "AAAGGCCTCCACAA         NaN              NaN  \n",
       "AACAAACTCGCCTT         NaN              NaN  \n",
       "AACAATACCCGTAA         NaN              NaN  \n",
       "AACACTCTCATTCT         NaN              NaN  \n",
       "AACAGAGAATCAGC         NaN              NaN  \n",
       "\n",
       "[5 rows x 27 columns]"
      ]
     },
     "execution_count": 3,
     "metadata": {},
     "output_type": "execute_result"
    }
   ],
   "source": [
    "meta = pd.read_csv(datadir+\"meta.csv\")\n",
    "meta = meta.set_index(meta[\"barcode\"])\n",
    "meta = meta.drop(\"barcode\", axis=1)\n",
    "\n",
    "adata.obs[\"stage\"] = meta[\"stage\"]\n",
    "adata.obs[\"batch\"] = meta[\"sequencing.batch\"]\n",
    "adata.obs[\"batch\"] = [str(i) for i in adata.obs[\"batch\"]]\n",
    "adata.obs[\"cell_type\"] = meta[\"celltype\"]\n",
    "\n",
    "adata.obs_names_make_unique()\n",
    "adata.var_names_make_unique()\n",
    "adata = adata[~adata.obs[\"cell_type\"].isna()]\n",
    "\n",
    "meta.head()"
   ]
  },
  {
   "cell_type": "markdown",
   "metadata": {},
   "source": [
    "### Data Before Processing <a class=\"anchor\" id=\"2-bullet\"></a>"
   ]
  },
  {
   "cell_type": "code",
   "execution_count": 4,
   "metadata": {},
   "outputs": [
    {
     "name": "stderr",
     "output_type": "stream",
     "text": [
      "Trying to set attribute `.obs` of view, copying.\n",
      "/Users/niveditakanrar/opt/anaconda3/envs/surf_env2/lib/python3.8/site-packages/anndata/_core/anndata.py:1094: FutureWarning: is_categorical is deprecated and will be removed in a future version.  Use is_categorical_dtype instead\n",
      "  if not is_categorical(df_full[k]):\n",
      "/Users/niveditakanrar/opt/anaconda3/envs/surf_env2/lib/python3.8/site-packages/anndata/_core/anndata.py:1192: FutureWarning: is_categorical is deprecated and will be removed in a future version.  Use is_categorical_dtype instead\n",
      "  if is_string_dtype(df[key]) and not is_categorical(df[key])\n",
      "... storing 'stage' as categorical\n",
      "... storing 'batch' as categorical\n",
      "... storing 'cell_type' as categorical\n"
     ]
    },
    {
     "data": {
      "image/png": "[encoded data removed]",
      "text/plain": [
       "<Figure size 648x648 with 4 Axes>"
      ]
     },
     "metadata": {
      "needs_background": "light"
     },
     "output_type": "display_data"
    },
    {
     "name": "stdout",
     "output_type": "stream",
     "text": [
      "CPU times: user 35.2 s, sys: 58.1 s, total: 1min 33s\n",
      "Wall time: 1min 54s\n"
     ]
    }
   ],
   "source": [
    "%%time\n",
    "\n",
    "# Below, we display cells with genes/cell and counts/cell, for genes that \n",
    "# have at least one 1 count in any cell. \n",
    "sc.pp.filter_cells(adata, min_genes=0)\n",
    "sc.pp.filter_genes(adata, min_cells=0)\n",
    "\n",
    "# Set annotations to the AnnData object for total counts, cells per gene, and mitochondrial genes\n",
    "adata.obs['n_total_counts_per_cell'] = (adata.X.sum(axis=1).A1)\n",
    "adata.var['n_cells_per_gene'] = adata.X.astype(bool).astype(int).sum(axis=0).A1\n",
    "adata.obs['n_genes_per_cell'] = adata.X.astype(bool).astype(int).sum(axis=1).A1\n",
    "\n",
    "# This line of code makes a plot with the different plots on the data\n",
    "# prior to processing it. \n",
    "pre_processed = md.vis_pre_processing(adata, genes_range=(0, 10000),\n",
    "    counts_range=(1e3, 1e5),title='Figure 2: Data Before Pre-Processing',\n",
    "                                     genes_threshold = 2000, counts_threshold=2000)"
   ]
  },
  {
   "cell_type": "code",
   "execution_count": 5,
   "metadata": {},
   "outputs": [
    {
     "name": "stderr",
     "output_type": "stream",
     "text": [
      "/Users/niveditakanrar/opt/anaconda3/envs/surf_env2/lib/python3.8/site-packages/anndata/_core/anndata.py:1094: FutureWarning: is_categorical is deprecated and will be removed in a future version.  Use is_categorical_dtype instead\n",
      "  if not is_categorical(df_full[k]):\n"
     ]
    }
   ],
   "source": [
    "# Create separate AnnData objects for each time point.\n",
    "adatas = [adata[adata.obs['stage'] == i] for i in list(adata.obs['stage'].unique())]"
   ]
  },
  {
   "cell_type": "code",
   "execution_count": 6,
   "metadata": {},
   "outputs": [
    {
     "name": "stdout",
     "output_type": "stream",
     "text": [
      "Stage E6.5 has 2977 average genes/cell and 13785 average total counts per cell.\n",
      "Stage E7.5 has 3546 average genes/cell and 17244 average total counts per cell.\n",
      "Stage E6.75 has 2796 average genes/cell and 11111 average total counts per cell.\n",
      "Stage E7.75 has 3616 average genes/cell and 17590 average total counts per cell.\n",
      "Stage E7.0 has 3456 average genes/cell and 16389 average total counts per cell.\n",
      "Stage E8.0 has 3368 average genes/cell and 14718 average total counts per cell.\n",
      "Stage E8.5 has 3494 average genes/cell and 17134 average total counts per cell.\n",
      "Stage mixed_gastrulation has 3743 average genes/cell and 16720 average total counts per cell.\n",
      "Stage E7.25 has 3261 average genes/cell and 15181 average total counts per cell.\n",
      "Stage E8.25 has 3436 average genes/cell and 15705 average total counts per cell.\n"
     ]
    }
   ],
   "source": [
    "stages = [list(i.obs['stage'].unique())[0] for i in adatas]\n",
    "avg_genes = [int(np.average(i.obs['n_genes_per_cell'])) for i in adatas]\n",
    "avg_counts = [int(np.average(i.obs['n_total_counts_per_cell'])) for i in adatas]\n",
    "\n",
    "for i in range(0,len(adatas)):\n",
    "    text = \"Stage {} has {} average genes/cell and {} average total counts per cell.\"\n",
    "    print(text.format(stages[i], avg_genes[i], avg_counts[i]))"
   ]
  },
  {
   "cell_type": "code",
   "execution_count": 7,
   "metadata": {},
   "outputs": [],
   "source": [
    "# Save the AnnData object for each time point.\n",
    "save_adata = [adatas[i].write_h5ad(resdir+stages[i]+\"_post_filtered.h5ad\") for i in range(0,len(adatas))]"
   ]
  },
  {
   "cell_type": "code",
   "execution_count": 8,
   "metadata": {},
   "outputs": [
    {
     "name": "stdout",
     "output_type": "stream",
     "text": [
      "Python implementation: CPython\n",
      "Python version       : 3.8.5\n",
      "IPython version      : 7.17.0\n",
      "\n",
      "numpy     : 1.18.5\n",
      "pandas    : 1.1.0\n",
      "scipy     : 1.5.2\n",
      "seaborn   : 0.10.1\n",
      "matplotlib: 3.2.2\n",
      "panel     : 0.9.7\n",
      "scanpy    : 1.5.1\n",
      "anndata2ri: 0.0.0\n",
      "rpy2      : 3.3.2\n",
      "jupyterlab: 2.2.4\n",
      "\n"
     ]
    }
   ],
   "source": [
    "%load_ext watermark\n",
    "%watermark -v -p numpy,pandas,scipy,seaborn,matplotlib,panel,scanpy,anndata2ri,rpy2,jupyterlab"
   ]
  }
 ],
 "metadata": {
  "kernelspec": {
   "display_name": "Python 3",
   "language": "python",
   "name": "python3"
  },
  "language_info": {
   "codemirror_mode": {
    "name": "ipython",
    "version": 3
   },
   "file_extension": ".py",
   "mimetype": "text/x-python",
   "name": "python",
   "nbconvert_exporter": "python",
   "pygments_lexer": "ipython3",
   "version": "3.8.5"
  }
 },
 "nbformat": 4,
 "nbformat_minor": 4
}
